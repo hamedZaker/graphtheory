{
 "cells": [
  {
   "cell_type": "code",
   "execution_count": 93,
   "metadata": {},
   "outputs": [],
   "source": [
    "# https://www.geeksforgeeks.org/minimum-steps-reach-target-knight/\n",
    "# Python3 code to find minimum steps to reach to specific cell in minimum moves by Knight \n",
    "# The original version of this code is contributed by Kaustav kumar Chanda \n",
    "\n",
    "class cell: \n",
    "    def __init__(self, x = 0, y = 0, dist = 0): \n",
    "        self.x = x \n",
    "        self.y = y \n",
    "        self.dist = dist \n",
    "\n",
    "# checks whether given position is inside the board \n",
    "def isInside(x, y, N): \n",
    "    if (x >= 1 and x <= N and y >= 1 and y <= N): \n",
    "        return True\n",
    "    return False\n",
    "\n",
    "# Method returns minimum step to reach target position \n",
    "def minStepToReachTarget(knightpos, targetpos, N): \n",
    "    # all possible movments for the knight \n",
    "    dx = [2, 2, -2, -2, 1, 1, -1, -1] \n",
    "    dy = [1, -1, 1, -1, 2, -2, 2, -2] \n",
    "\n",
    "    # a list of cells to be checked\n",
    "    queue = [] \n",
    "\n",
    "    # starting position of knight with 0 distance \n",
    "    queue.append(cell(knightpos[0], knightpos[1], 0)) \n",
    "    \n",
    "    # list of unvisited cells \n",
    "    visited = [[False for i in range(N + 1)] \n",
    "               for j in range(N + 1)] \n",
    "\n",
    "    # starting point already visited\n",
    "    visited[knightpos[0]][knightpos[1]] = True\n",
    "    \n",
    "    # loop untill we have one element in queue \n",
    "    while(len(queue) > 0): \n",
    "        t = queue[0] # keep the first stored cell in queue in t\n",
    "        queue.pop(0) # remove it from queue; we do not need anymore after this iteration\n",
    "\n",
    "        # Current cell is equal to target cell? Done! Return its distance!\n",
    "        if(t.x == targetpos[0] and t.y == targetpos[1]): \n",
    "            return t.dist \n",
    "\n",
    "        # iterate for all possible moves \n",
    "        for i in range(8): \n",
    "            x = t.x + dx[i] \n",
    "            y = t.y + dy[i] \n",
    "\n",
    "            if(isInside(x, y, N) and not visited[x][y]): \n",
    "                visited[x][y] = True\n",
    "                queue.append(cell(x, y, t.dist + 1)) \n",
    "        # At this step, queue contains all non-visited cells worth checking\n",
    "        # and we check them, one by one, in order they have been added --> Breadth-first search (BFS) \n",
    "        # BFS explores all of the neighbor nodes at the present depth prior \n",
    "        # to moving on to the nodes at the next depth level."
   ]
  },
  {
   "cell_type": "code",
   "execution_count": 96,
   "metadata": {},
   "outputs": [
    {
     "name": "stdout",
     "output_type": "stream",
     "text": [
      "3\n"
     ]
    }
   ],
   "source": [
    "if __name__=='__main__': \n",
    "    N = 8\n",
    "    knightpos = [1, 1] \n",
    "    targetpos = [2, 1] \n",
    "    print(minStepToReachTarget(knightpos, targetpos, N)) \n"
   ]
  },
  {
   "cell_type": "code",
   "execution_count": null,
   "metadata": {},
   "outputs": [],
   "source": []
  },
  {
   "cell_type": "code",
   "execution_count": null,
   "metadata": {},
   "outputs": [],
   "source": []
  }
 ],
 "metadata": {
  "kernelspec": {
   "display_name": "Python 3",
   "language": "python",
   "name": "python3"
  },
  "language_info": {
   "codemirror_mode": {
    "name": "ipython",
    "version": 3
   },
   "file_extension": ".py",
   "mimetype": "text/x-python",
   "name": "python",
   "nbconvert_exporter": "python",
   "pygments_lexer": "ipython3",
   "version": "3.8.5"
  }
 },
 "nbformat": 4,
 "nbformat_minor": 4
}
